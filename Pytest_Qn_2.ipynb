{
  "nbformat": 4,
  "nbformat_minor": 0,
  "metadata": {
    "colab": {
      "name": "Pytest_Qn_2.ipynb",
      "provenance": [],
      "collapsed_sections": []
    },
    "kernelspec": {
      "name": "python3",
      "display_name": "Python 3"
    }
  },
  "cells": [
    {
      "cell_type": "markdown",
      "metadata": {
        "id": "tYxJUg3UF1hs",
        "colab_type": "text"
      },
      "source": [
        "**Mounting Google Drive.**"
      ]
    },
    {
      "cell_type": "code",
      "metadata": {
        "id": "jju1HvXE8mZY",
        "colab_type": "code",
        "colab": {
          "base_uri": "https://localhost:8080/",
          "height": 125
        },
        "outputId": "1c64a93b-92ab-47ab-8dcb-ff59c91bb09b"
      },
      "source": [
        "from google.colab import drive\n",
        "drive.mount('/gdrive')"
      ],
      "execution_count": 1,
      "outputs": [
        {
          "output_type": "stream",
          "text": [
            "Go to this URL in a browser: https://accounts.google.com/o/oauth2/auth?client_id=947318989803-6bn6qk8qdgf4n4g3pfee6491hc0brc4i.apps.googleusercontent.com&redirect_uri=urn%3aietf%3awg%3aoauth%3a2.0%3aoob&response_type=code&scope=email%20https%3a%2f%2fwww.googleapis.com%2fauth%2fdocs.test%20https%3a%2f%2fwww.googleapis.com%2fauth%2fdrive%20https%3a%2f%2fwww.googleapis.com%2fauth%2fdrive.photos.readonly%20https%3a%2f%2fwww.googleapis.com%2fauth%2fpeopleapi.readonly\n",
            "\n",
            "Enter your authorization code:\n",
            "··········\n",
            "Mounted at /gdrive\n"
          ],
          "name": "stdout"
        }
      ]
    },
    {
      "cell_type": "code",
      "metadata": {
        "id": "KZt2EVA48mXH",
        "colab_type": "code",
        "colab": {
          "base_uri": "https://localhost:8080/",
          "height": 34
        },
        "outputId": "f0c5ce0d-a2f7-4013-ae85-93e426d51990"
      },
      "source": [
        "with open('/gdrive/My Drive/foo.txt', 'w') as f:\n",
        "  f.write('Hello Google Drive!')\n",
        "!cat '/gdrive/My Drive/foo.txt'"
      ],
      "execution_count": 2,
      "outputs": [
        {
          "output_type": "stream",
          "text": [
            "Hello Google Drive!"
          ],
          "name": "stdout"
        }
      ]
    },
    {
      "cell_type": "markdown",
      "metadata": {
        "id": "bUVUm79XFwQn",
        "colab_type": "text"
      },
      "source": [
        "**Importing the Libraries**"
      ]
    },
    {
      "cell_type": "code",
      "metadata": {
        "id": "P2wElier9CyL",
        "colab_type": "code",
        "colab": {}
      },
      "source": [
        "import numpy as np\n",
        "import pandas as pd\n",
        "pd.set_option('display.max_colwidth', -1)"
      ],
      "execution_count": 0,
      "outputs": []
    },
    {
      "cell_type": "markdown",
      "metadata": {
        "id": "816HMCh_GRlI",
        "colab_type": "text"
      },
      "source": [
        "INPUT:\n",
        "    A csv file containing rows and columns consisting of values in it.\n",
        "\n",
        "OUTPUT:\n",
        "    A csv file containing with column 'a' length of the word, column 'b' as count of that length of word for length of words matches 3,4,5,6.\n"
      ]
    },
    {
      "cell_type": "code",
      "metadata": {
        "id": "KhFVsGI89JMK",
        "colab_type": "code",
        "colab": {
          "base_uri": "https://localhost:8080/",
          "height": 157
        },
        "outputId": "3055fcae-d23c-4477-ca86-8a97e353eb1b"
      },
      "source": [
        "df=pd.read_csv('/gdrive/My Drive/Colab Notebooks/pytest.csv')\n",
        "df.head()"
      ],
      "execution_count": 241,
      "outputs": [
        {
          "output_type": "execute_result",
          "data": {
            "text/html": [
              "<div>\n",
              "<style scoped>\n",
              "    .dataframe tbody tr th:only-of-type {\n",
              "        vertical-align: middle;\n",
              "    }\n",
              "\n",
              "    .dataframe tbody tr th {\n",
              "        vertical-align: top;\n",
              "    }\n",
              "\n",
              "    .dataframe thead th {\n",
              "        text-align: right;\n",
              "    }\n",
              "</style>\n",
              "<table border=\"1\" class=\"dataframe\">\n",
              "  <thead>\n",
              "    <tr style=\"text-align: right;\">\n",
              "      <th></th>\n",
              "      <th>a</th>\n",
              "      <th>b</th>\n",
              "    </tr>\n",
              "  </thead>\n",
              "  <tbody>\n",
              "    <tr>\n",
              "      <th>0</th>\n",
              "      <td>1</td>\n",
              "      <td>Air India, too, decided to reduce frequency of flights. “Till March 31, our Delhi-Tokyo flight will fly four times a week, instead of five; Delhi-Seoul and Delhi-Milan will fly twice a week, instead of four, and Delhi-Rome will operate twice a week. Till May-end, daily flights Mumbai-Singapore-Delhi and Delhi-Bangkok-Mumbai will operate four and three times a week, respectively,” an AI spokesperson said.</td>\n",
              "    </tr>\n",
              "    <tr>\n",
              "      <th>1</th>\n",
              "      <td>2</td>\n",
              "      <td>According to an order by the National Company Law Tribunal, the CoC had to complete the entire process by January 10 but it sought extension in deadline. The resolution professional, Deloitte, is expected to file resolution plan with the NCLT Mumbai on March 5.\\n\\nRCom in the past had tried to sell assets to various companies, including Reliance Jio, to clear debt but the deals did not materialise. Reliance Jio cancelled agreement to buy RCom assets, including spectrum, as it did not want \\n</td>\n",
              "    </tr>\n",
              "  </tbody>\n",
              "</table>\n",
              "</div>"
            ],
            "text/plain": [
              "   a  \\\n",
              "0  1   \n",
              "1  2   \n",
              "\n",
              "                                                                                                                                                                                                                                                                                                                                                                                                                                                                                                                  b  \n",
              "0  Air India, too, decided to reduce frequency of flights. “Till March 31, our Delhi-Tokyo flight will fly four times a week, instead of five; Delhi-Seoul and Delhi-Milan will fly twice a week, instead of four, and Delhi-Rome will operate twice a week. Till May-end, daily flights Mumbai-Singapore-Delhi and Delhi-Bangkok-Mumbai will operate four and three times a week, respectively,” an AI spokesperson said.                                                                                           \n",
              "1  According to an order by the National Company Law Tribunal, the CoC had to complete the entire process by January 10 but it sought extension in deadline. The resolution professional, Deloitte, is expected to file resolution plan with the NCLT Mumbai on March 5.\\n\\nRCom in the past had tried to sell assets to various companies, including Reliance Jio, to clear debt but the deals did not materialise. Reliance Jio cancelled agreement to buy RCom assets, including spectrum, as it did not want \\n  "
            ]
          },
          "metadata": {
            "tags": []
          },
          "execution_count": 241
        }
      ]
    },
    {
      "cell_type": "markdown",
      "metadata": {
        "id": "vwRZROatGu59",
        "colab_type": "text"
      },
      "source": [
        "**SUMMARY**\n",
        "\n",
        "1. Used numpy pandas libraries to import and to read the csv file. \n",
        "2. Expanded the column width to maximum to display all the values in the columns.\n",
        "3. Read the csv file using pandas\n"
      ]
    },
    {
      "cell_type": "code",
      "metadata": {
        "id": "EvxcKF5APfBv",
        "colab_type": "code",
        "colab": {
          "base_uri": "https://localhost:8080/",
          "height": 52
        },
        "outputId": "59543440-b382-4674-aaa9-2644125f91a0"
      },
      "source": [
        "import re\n",
        "result1=[]\n",
        "for k in df['b']:\n",
        "    str_no_splchar=re.sub(r\"[^a-zA-Z0-9]+\", ' ', k)\n",
        "    li_of_words=str_no_splchar.split()\n",
        "    out1=[]\n",
        "    three=0\n",
        "    four=0\n",
        "    five=0\n",
        "    six=0\n",
        "    out2=[]\n",
        "    for i in li_of_words:\n",
        "      out1+=[len(i)]\n",
        "    for j in out1:\n",
        "      if j==3:\n",
        "        three+=1\n",
        "      elif j==4:\n",
        "        four+=1\n",
        "      elif j==5:\n",
        "        five+=1\n",
        "      elif j==6:\n",
        "        six+=1\n",
        "    out2.extend([three,four,five,six])\n",
        "    result1.append(out2)\n",
        "arr=np.array(result1)\n",
        "li_of_li=list(np.sum(arr,0))\n",
        "result2={'a':[3,4,5,6],'b':li_of_li}\n",
        "df1=pd.DataFrame(result2)\n",
        "df1.to_csv(r'/gdrive/My Drive/Colab Notebooks/solution1.csv',index=False)"
      ],
      "execution_count": 242,
      "outputs": [
        {
          "output_type": "stream",
          "text": [
            "<class 'str'>\n",
            "<class 'str'>\n"
          ],
          "name": "stdout"
        }
      ]
    },
    {
      "cell_type": "markdown",
      "metadata": {
        "id": "uyW27s_mFoLn",
        "colab_type": "text"
      },
      "source": [
        "**SUMMARY**\n",
        "\n",
        "1. Read the value of Column b one after the other and manipulate\n",
        "2. Convert the value into strings by removing special characters\n",
        "3. Initialize four variables(ie: three, four, five, six) for taking the count of words in the string respective to the name of the variable\n",
        "4. Add the resulting lists using numpy\n",
        "5. Create a dataframe with two columns as specified\n",
        "6. Export dataframe to a csv file in the desired location"
      ]
    },
    {
      "cell_type": "markdown",
      "metadata": {
        "id": "c3EXYngXLu9T",
        "colab_type": "text"
      },
      "source": [
        "INPUT:\n",
        "    A csv file containing rows and columns consisting of values in it.\n",
        "\n",
        "OUTPUT:\n",
        "    A csv file containing number of occurrences of each alphabet with column 'a' the alphabet and column 'b' count.\n"
      ]
    },
    {
      "cell_type": "code",
      "metadata": {
        "id": "eWYRwdNvsyba",
        "colab_type": "code",
        "colab": {}
      },
      "source": [
        "pd.set_option('display.max_colwidth', -1)\n",
        "str1=df['b'].to_string()\n",
        "str1.replace(r'\\n','')\n",
        "str2=''.join(e for e in str1 if e.isalpha()).lower()\n",
        "str3=dict((letter,str2.count(letter)) for letter in set(str2))\n",
        "df1=pd.DataFrame(list(str3.items()),columns=['alphabet','count'])\n",
        "df2=df1.sort_values(by='alphabet',axis=0,ascending=True)\n",
        "df2.reset_index(drop=True, inplace=True)\n",
        "df2.to_csv(r'/gdrive/My Drive/Colab Notebooks/solution2.csv',index=False)"
      ],
      "execution_count": 0,
      "outputs": []
    },
    {
      "cell_type": "markdown",
      "metadata": {
        "id": "H1mciDoEyHmU",
        "colab_type": "text"
      },
      "source": [
        "**SUMMARY**\n",
        "1. Used numpy pandas libraries to import and to read the csv file. \n",
        "2. Expanded the column width to maximum to display all the values in the columns.\n",
        "3. Read the csv file using pandas\n",
        "4. Convert the column value to string\n",
        "5. Remove the characters other than alphabets and convert to lowercase for manipulation\n",
        "6. Count the occurences of each alphabet and store it as key and value pairs\n",
        "7. Convert it into dataframe with two columns alphabet and count\n",
        "8. Sort the column values according to alphabet\n",
        "9. Export dataframe to csv file in the desired location"
      ]
    }
  ]
}